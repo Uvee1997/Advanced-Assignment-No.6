{
 "cells": [
  {
   "cell_type": "markdown",
   "id": "b934df82",
   "metadata": {},
   "source": [
    "1) Describe 3 applications for exception processing.\n",
    "\n",
    ":- i) To handle the run time errors\n",
    "   ii) To maintain normal flow of application\n",
    "   iii) By using this you can add try , except & finally block"
   ]
  },
  {
   "cell_type": "markdown",
   "id": "f06e06be",
   "metadata": {},
   "source": [
    "2) What happens if you don't do something extra to treat an exception ?\n",
    "\n",
    ":- The program terminates abruptly and the code past the line that caused the exception will not get executed."
   ]
  },
  {
   "cell_type": "markdown",
   "id": "171cbdda",
   "metadata": {},
   "source": [
    "3) What your options for recovring from an exception in your script ?\n",
    "\n",
    ":- By using try catch"
   ]
  },
  {
   "cell_type": "markdown",
   "id": "fdaeaa19",
   "metadata": {},
   "source": [
    "4) Describe two methods for triggering exceptions in your script.\n",
    "\n",
    ":- Try = This method catches exceptions raised by the program.\n",
    "   Raise = Triggers exceptions manually using custom exception. "
   ]
  },
  {
   "cell_type": "code",
   "execution_count": null,
   "id": "4454a101",
   "metadata": {},
   "outputs": [],
   "source": []
  },
  {
   "cell_type": "code",
   "execution_count": null,
   "id": "1ebea0d4",
   "metadata": {},
   "outputs": [],
   "source": []
  }
 ],
 "metadata": {
  "kernelspec": {
   "display_name": "Python 3 (ipykernel)",
   "language": "python",
   "name": "python3"
  },
  "language_info": {
   "codemirror_mode": {
    "name": "ipython",
    "version": 3
   },
   "file_extension": ".py",
   "mimetype": "text/x-python",
   "name": "python",
   "nbconvert_exporter": "python",
   "pygments_lexer": "ipython3",
   "version": "3.9.7"
  }
 },
 "nbformat": 4,
 "nbformat_minor": 5
}
